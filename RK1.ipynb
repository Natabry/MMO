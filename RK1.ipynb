{
 "cells": [
  {
   "cell_type": "markdown",
   "id": "underlying-blind",
   "metadata": {},
   "source": [
    "Брысина Наталия Руслановна, ИУ5-23М"
   ]
  },
  {
   "cell_type": "markdown",
   "id": "overhead-batch",
   "metadata": {},
   "source": [
    "Задача №3.\n",
    "Для набора данных проведите кодирование одного (произвольного) категориального признака с использованием метода \"weight of evidence (WoE) encoding\"."
   ]
  },
  {
   "cell_type": "code",
   "execution_count": 36,
   "id": "thousand-literacy",
   "metadata": {},
   "outputs": [],
   "source": [
    "import numpy as np\n",
    "import pandas as pd\n",
    "import seaborn as sns\n",
    "import matplotlib.pyplot as plt\n",
    "%matplotlib inline \n",
    "sns.set(style=\"ticks\")"
   ]
  },
  {
   "cell_type": "code",
   "execution_count": 37,
   "id": "animated-warehouse",
   "metadata": {},
   "outputs": [],
   "source": [
    "data = pd.read_csv('D:/Natan/Магистратура/2sem/ММО/dataset/aug_train.csv', sep=\",\")"
   ]
  },
  {
   "cell_type": "code",
   "execution_count": 6,
   "id": "minus-program",
   "metadata": {},
   "outputs": [
    {
     "data": {
      "text/plain": [
       "(19158, 14)"
      ]
     },
     "execution_count": 6,
     "metadata": {},
     "output_type": "execute_result"
    }
   ],
   "source": [
    "# размер набора данных\n",
    "data.shape"
   ]
  },
  {
   "cell_type": "code",
   "execution_count": 7,
   "id": "approved-saturn",
   "metadata": {},
   "outputs": [
    {
     "data": {
      "text/html": [
       "<div>\n",
       "<style scoped>\n",
       "    .dataframe tbody tr th:only-of-type {\n",
       "        vertical-align: middle;\n",
       "    }\n",
       "\n",
       "    .dataframe tbody tr th {\n",
       "        vertical-align: top;\n",
       "    }\n",
       "\n",
       "    .dataframe thead th {\n",
       "        text-align: right;\n",
       "    }\n",
       "</style>\n",
       "<table border=\"1\" class=\"dataframe\">\n",
       "  <thead>\n",
       "    <tr style=\"text-align: right;\">\n",
       "      <th></th>\n",
       "      <th>enrollee_id</th>\n",
       "      <th>city</th>\n",
       "      <th>city_development_index</th>\n",
       "      <th>gender</th>\n",
       "      <th>relevent_experience</th>\n",
       "      <th>enrolled_university</th>\n",
       "      <th>education_level</th>\n",
       "      <th>major_discipline</th>\n",
       "      <th>experience</th>\n",
       "      <th>company_size</th>\n",
       "      <th>company_type</th>\n",
       "      <th>last_new_job</th>\n",
       "      <th>training_hours</th>\n",
       "      <th>target</th>\n",
       "    </tr>\n",
       "  </thead>\n",
       "  <tbody>\n",
       "    <tr>\n",
       "      <th>0</th>\n",
       "      <td>8949</td>\n",
       "      <td>city_103</td>\n",
       "      <td>0.920</td>\n",
       "      <td>Male</td>\n",
       "      <td>Has relevent experience</td>\n",
       "      <td>no_enrollment</td>\n",
       "      <td>Graduate</td>\n",
       "      <td>STEM</td>\n",
       "      <td>&gt;20</td>\n",
       "      <td>NaN</td>\n",
       "      <td>NaN</td>\n",
       "      <td>1</td>\n",
       "      <td>36</td>\n",
       "      <td>1.0</td>\n",
       "    </tr>\n",
       "    <tr>\n",
       "      <th>1</th>\n",
       "      <td>29725</td>\n",
       "      <td>city_40</td>\n",
       "      <td>0.776</td>\n",
       "      <td>Male</td>\n",
       "      <td>No relevent experience</td>\n",
       "      <td>no_enrollment</td>\n",
       "      <td>Graduate</td>\n",
       "      <td>STEM</td>\n",
       "      <td>15</td>\n",
       "      <td>50-99</td>\n",
       "      <td>Pvt Ltd</td>\n",
       "      <td>&gt;4</td>\n",
       "      <td>47</td>\n",
       "      <td>0.0</td>\n",
       "    </tr>\n",
       "    <tr>\n",
       "      <th>2</th>\n",
       "      <td>11561</td>\n",
       "      <td>city_21</td>\n",
       "      <td>0.624</td>\n",
       "      <td>NaN</td>\n",
       "      <td>No relevent experience</td>\n",
       "      <td>Full time course</td>\n",
       "      <td>Graduate</td>\n",
       "      <td>STEM</td>\n",
       "      <td>5</td>\n",
       "      <td>NaN</td>\n",
       "      <td>NaN</td>\n",
       "      <td>never</td>\n",
       "      <td>83</td>\n",
       "      <td>0.0</td>\n",
       "    </tr>\n",
       "    <tr>\n",
       "      <th>3</th>\n",
       "      <td>33241</td>\n",
       "      <td>city_115</td>\n",
       "      <td>0.789</td>\n",
       "      <td>NaN</td>\n",
       "      <td>No relevent experience</td>\n",
       "      <td>NaN</td>\n",
       "      <td>Graduate</td>\n",
       "      <td>Business Degree</td>\n",
       "      <td>&lt;1</td>\n",
       "      <td>NaN</td>\n",
       "      <td>Pvt Ltd</td>\n",
       "      <td>never</td>\n",
       "      <td>52</td>\n",
       "      <td>1.0</td>\n",
       "    </tr>\n",
       "    <tr>\n",
       "      <th>4</th>\n",
       "      <td>666</td>\n",
       "      <td>city_162</td>\n",
       "      <td>0.767</td>\n",
       "      <td>Male</td>\n",
       "      <td>Has relevent experience</td>\n",
       "      <td>no_enrollment</td>\n",
       "      <td>Masters</td>\n",
       "      <td>STEM</td>\n",
       "      <td>&gt;20</td>\n",
       "      <td>50-99</td>\n",
       "      <td>Funded Startup</td>\n",
       "      <td>4</td>\n",
       "      <td>8</td>\n",
       "      <td>0.0</td>\n",
       "    </tr>\n",
       "  </tbody>\n",
       "</table>\n",
       "</div>"
      ],
      "text/plain": [
       "   enrollee_id      city  city_development_index gender  \\\n",
       "0         8949  city_103                   0.920   Male   \n",
       "1        29725   city_40                   0.776   Male   \n",
       "2        11561   city_21                   0.624    NaN   \n",
       "3        33241  city_115                   0.789    NaN   \n",
       "4          666  city_162                   0.767   Male   \n",
       "\n",
       "       relevent_experience enrolled_university education_level  \\\n",
       "0  Has relevent experience       no_enrollment        Graduate   \n",
       "1   No relevent experience       no_enrollment        Graduate   \n",
       "2   No relevent experience    Full time course        Graduate   \n",
       "3   No relevent experience                 NaN        Graduate   \n",
       "4  Has relevent experience       no_enrollment         Masters   \n",
       "\n",
       "  major_discipline experience company_size    company_type last_new_job  \\\n",
       "0             STEM        >20          NaN             NaN            1   \n",
       "1             STEM         15        50-99         Pvt Ltd           >4   \n",
       "2             STEM          5          NaN             NaN        never   \n",
       "3  Business Degree         <1          NaN         Pvt Ltd        never   \n",
       "4             STEM        >20        50-99  Funded Startup            4   \n",
       "\n",
       "   training_hours  target  \n",
       "0              36     1.0  \n",
       "1              47     0.0  \n",
       "2              83     0.0  \n",
       "3              52     1.0  \n",
       "4               8     0.0  "
      ]
     },
     "execution_count": 7,
     "metadata": {},
     "output_type": "execute_result"
    }
   ],
   "source": [
    "data.head()"
   ]
  },
  {
   "cell_type": "code",
   "execution_count": 8,
   "id": "private-spice",
   "metadata": {
    "scrolled": true
   },
   "outputs": [
    {
     "data": {
      "text/plain": [
       "[('enrollee_id', ('int64', 0)),\n",
       " ('city', ('object', 0)),\n",
       " ('city_development_index', ('float64', 0)),\n",
       " ('gender', ('object', 4508)),\n",
       " ('relevent_experience', ('object', 0)),\n",
       " ('enrolled_university', ('object', 386)),\n",
       " ('education_level', ('object', 460)),\n",
       " ('major_discipline', ('object', 2813)),\n",
       " ('experience', ('object', 65)),\n",
       " ('company_size', ('object', 5938)),\n",
       " ('company_type', ('object', 6140)),\n",
       " ('last_new_job', ('object', 423)),\n",
       " ('training_hours', ('int64', 0)),\n",
       " ('target', ('float64', 0))]"
      ]
     },
     "execution_count": 8,
     "metadata": {},
     "output_type": "execute_result"
    }
   ],
   "source": [
    "data_features = list(zip(\n",
    "# признаки\n",
    "[i for i in data.columns],\n",
    "zip(\n",
    "    # типы колонок\n",
    "    [str(i) for i in data.dtypes],\n",
    "    # проверим есть ли пропущенные значения\n",
    "    [i for i in data.isnull().sum()]\n",
    ")))\n",
    "# Признаки с типом данных и количеством пропусков\n",
    "data_features"
   ]
  },
  {
   "cell_type": "code",
   "execution_count": 20,
   "id": "duplicate-cocktail",
   "metadata": {},
   "outputs": [],
   "source": [
    "# Заполним пропуски\n",
    "data.dropna(subset=['gender', 'enrolled_university',\n",
    "                   'education_level', 'major_discipline',\n",
    "                   'experience', 'company_size',\n",
    "                   'company_type', 'last_new_job'], inplace=True)"
   ]
  },
  {
   "cell_type": "code",
   "execution_count": 21,
   "id": "placed-aruba",
   "metadata": {},
   "outputs": [
    {
     "data": {
      "text/plain": [
       "enrollee_id               0\n",
       "city                      0\n",
       "city_development_index    0\n",
       "gender                    0\n",
       "relevent_experience       0\n",
       "enrolled_university       0\n",
       "education_level           0\n",
       "major_discipline          0\n",
       "experience                0\n",
       "company_size              0\n",
       "company_type              0\n",
       "last_new_job              0\n",
       "training_hours            0\n",
       "target                    0\n",
       "dtype: int64"
      ]
     },
     "execution_count": 21,
     "metadata": {},
     "output_type": "execute_result"
    }
   ],
   "source": [
    "# Убедимся что нет пустых значений\n",
    "data.isnull().sum()"
   ]
  },
  {
   "cell_type": "code",
   "execution_count": 22,
   "id": "italic-currency",
   "metadata": {},
   "outputs": [],
   "source": [
    "from category_encoders.woe import WOEEncoder as ce_WOEEncoder"
   ]
  },
  {
   "cell_type": "code",
   "execution_count": 23,
   "id": "metric-infrastructure",
   "metadata": {},
   "outputs": [
    {
     "name": "stderr",
     "output_type": "stream",
     "text": [
      "d:\\virtualenvs\\tensorflow\\lib\\site-packages\\category_encoders\\utils.py:21: FutureWarning: is_categorical is deprecated and will be removed in a future version.  Use is_categorical_dtype instead\n",
      "  elif pd.api.types.is_categorical(cols):\n"
     ]
    }
   ],
   "source": [
    "ce_WOEEncoder1 = ce_WOEEncoder()\n",
    "data_WOE_ENC = ce_WOEEncoder1.fit_transform(data[data.columns.difference(['target'])], data['target'])"
   ]
  },
  {
   "cell_type": "code",
   "execution_count": 24,
   "id": "suited-cleaners",
   "metadata": {},
   "outputs": [
    {
     "data": {
      "text/html": [
       "<div>\n",
       "<style scoped>\n",
       "    .dataframe tbody tr th:only-of-type {\n",
       "        vertical-align: middle;\n",
       "    }\n",
       "\n",
       "    .dataframe tbody tr th {\n",
       "        vertical-align: top;\n",
       "    }\n",
       "\n",
       "    .dataframe thead th {\n",
       "        text-align: right;\n",
       "    }\n",
       "</style>\n",
       "<table border=\"1\" class=\"dataframe\">\n",
       "  <thead>\n",
       "    <tr style=\"text-align: right;\">\n",
       "      <th></th>\n",
       "      <th>city</th>\n",
       "      <th>city_development_index</th>\n",
       "      <th>company_size</th>\n",
       "      <th>company_type</th>\n",
       "      <th>education_level</th>\n",
       "      <th>enrolled_university</th>\n",
       "      <th>enrollee_id</th>\n",
       "      <th>experience</th>\n",
       "      <th>gender</th>\n",
       "      <th>last_new_job</th>\n",
       "      <th>major_discipline</th>\n",
       "      <th>relevent_experience</th>\n",
       "      <th>training_hours</th>\n",
       "    </tr>\n",
       "  </thead>\n",
       "  <tbody>\n",
       "    <tr>\n",
       "      <th>1</th>\n",
       "      <td>-1.058133</td>\n",
       "      <td>0.776</td>\n",
       "      <td>-0.009199</td>\n",
       "      <td>0.007990</td>\n",
       "      <td>0.063811</td>\n",
       "      <td>-0.087333</td>\n",
       "      <td>29725</td>\n",
       "      <td>-0.307231</td>\n",
       "      <td>0.002262</td>\n",
       "      <td>-0.435701</td>\n",
       "      <td>0.049364</td>\n",
       "      <td>0.245470</td>\n",
       "      <td>47</td>\n",
       "    </tr>\n",
       "    <tr>\n",
       "      <th>4</th>\n",
       "      <td>0.517403</td>\n",
       "      <td>0.767</td>\n",
       "      <td>-0.009199</td>\n",
       "      <td>-0.210308</td>\n",
       "      <td>-0.149805</td>\n",
       "      <td>-0.087333</td>\n",
       "      <td>666</td>\n",
       "      <td>-0.867741</td>\n",
       "      <td>0.002262</td>\n",
       "      <td>0.028382</td>\n",
       "      <td>0.049364</td>\n",
       "      <td>-0.037936</td>\n",
       "      <td>8</td>\n",
       "    </tr>\n",
       "    <tr>\n",
       "      <th>7</th>\n",
       "      <td>0.272281</td>\n",
       "      <td>0.762</td>\n",
       "      <td>-0.112080</td>\n",
       "      <td>0.007990</td>\n",
       "      <td>0.063811</td>\n",
       "      <td>-0.087333</td>\n",
       "      <td>402</td>\n",
       "      <td>-0.071384</td>\n",
       "      <td>0.002262</td>\n",
       "      <td>-0.435701</td>\n",
       "      <td>0.049364</td>\n",
       "      <td>-0.037936</td>\n",
       "      <td>18</td>\n",
       "    </tr>\n",
       "    <tr>\n",
       "      <th>8</th>\n",
       "      <td>-0.594089</td>\n",
       "      <td>0.920</td>\n",
       "      <td>-0.009199</td>\n",
       "      <td>0.007990</td>\n",
       "      <td>0.063811</td>\n",
       "      <td>-0.087333</td>\n",
       "      <td>27107</td>\n",
       "      <td>0.395957</td>\n",
       "      <td>0.002262</td>\n",
       "      <td>0.085133</td>\n",
       "      <td>0.049364</td>\n",
       "      <td>-0.037936</td>\n",
       "      <td>46</td>\n",
       "    </tr>\n",
       "    <tr>\n",
       "      <th>11</th>\n",
       "      <td>-0.594089</td>\n",
       "      <td>0.920</td>\n",
       "      <td>-0.103770</td>\n",
       "      <td>0.007990</td>\n",
       "      <td>0.063811</td>\n",
       "      <td>-0.087333</td>\n",
       "      <td>23853</td>\n",
       "      <td>0.505816</td>\n",
       "      <td>0.002262</td>\n",
       "      <td>0.085133</td>\n",
       "      <td>0.049364</td>\n",
       "      <td>-0.037936</td>\n",
       "      <td>108</td>\n",
       "    </tr>\n",
       "    <tr>\n",
       "      <th>...</th>\n",
       "      <td>...</td>\n",
       "      <td>...</td>\n",
       "      <td>...</td>\n",
       "      <td>...</td>\n",
       "      <td>...</td>\n",
       "      <td>...</td>\n",
       "      <td>...</td>\n",
       "      <td>...</td>\n",
       "      <td>...</td>\n",
       "      <td>...</td>\n",
       "      <td>...</td>\n",
       "      <td>...</td>\n",
       "      <td>...</td>\n",
       "    </tr>\n",
       "    <tr>\n",
       "      <th>19147</th>\n",
       "      <td>1.981207</td>\n",
       "      <td>0.624</td>\n",
       "      <td>-0.073519</td>\n",
       "      <td>0.007990</td>\n",
       "      <td>0.063811</td>\n",
       "      <td>0.668459</td>\n",
       "      <td>21319</td>\n",
       "      <td>1.337812</td>\n",
       "      <td>0.002262</td>\n",
       "      <td>0.085133</td>\n",
       "      <td>0.049364</td>\n",
       "      <td>0.245470</td>\n",
       "      <td>52</td>\n",
       "    </tr>\n",
       "    <tr>\n",
       "      <th>19149</th>\n",
       "      <td>-0.594089</td>\n",
       "      <td>0.920</td>\n",
       "      <td>-0.009199</td>\n",
       "      <td>0.007990</td>\n",
       "      <td>-0.149805</td>\n",
       "      <td>-0.087333</td>\n",
       "      <td>251</td>\n",
       "      <td>0.095864</td>\n",
       "      <td>0.002262</td>\n",
       "      <td>0.085133</td>\n",
       "      <td>0.049364</td>\n",
       "      <td>-0.037936</td>\n",
       "      <td>36</td>\n",
       "    </tr>\n",
       "    <tr>\n",
       "      <th>19150</th>\n",
       "      <td>-0.978706</td>\n",
       "      <td>0.920</td>\n",
       "      <td>-0.073519</td>\n",
       "      <td>0.015034</td>\n",
       "      <td>0.063811</td>\n",
       "      <td>-0.087333</td>\n",
       "      <td>32313</td>\n",
       "      <td>-0.062262</td>\n",
       "      <td>-0.014413</td>\n",
       "      <td>0.018297</td>\n",
       "      <td>0.049364</td>\n",
       "      <td>-0.037936</td>\n",
       "      <td>23</td>\n",
       "    </tr>\n",
       "    <tr>\n",
       "      <th>19152</th>\n",
       "      <td>-0.594089</td>\n",
       "      <td>0.920</td>\n",
       "      <td>0.271178</td>\n",
       "      <td>-0.210308</td>\n",
       "      <td>0.063811</td>\n",
       "      <td>-0.087333</td>\n",
       "      <td>29754</td>\n",
       "      <td>0.395957</td>\n",
       "      <td>-0.014413</td>\n",
       "      <td>0.085133</td>\n",
       "      <td>-0.496412</td>\n",
       "      <td>-0.037936</td>\n",
       "      <td>25</td>\n",
       "    </tr>\n",
       "    <tr>\n",
       "      <th>19155</th>\n",
       "      <td>-0.594089</td>\n",
       "      <td>0.920</td>\n",
       "      <td>-0.009199</td>\n",
       "      <td>0.007990</td>\n",
       "      <td>0.063811</td>\n",
       "      <td>-0.087333</td>\n",
       "      <td>24576</td>\n",
       "      <td>-0.867741</td>\n",
       "      <td>0.002262</td>\n",
       "      <td>0.028382</td>\n",
       "      <td>0.049364</td>\n",
       "      <td>-0.037936</td>\n",
       "      <td>44</td>\n",
       "    </tr>\n",
       "  </tbody>\n",
       "</table>\n",
       "<p>8955 rows × 13 columns</p>\n",
       "</div>"
      ],
      "text/plain": [
       "           city  city_development_index  company_size  company_type  \\\n",
       "1     -1.058133                   0.776     -0.009199      0.007990   \n",
       "4      0.517403                   0.767     -0.009199     -0.210308   \n",
       "7      0.272281                   0.762     -0.112080      0.007990   \n",
       "8     -0.594089                   0.920     -0.009199      0.007990   \n",
       "11    -0.594089                   0.920     -0.103770      0.007990   \n",
       "...         ...                     ...           ...           ...   \n",
       "19147  1.981207                   0.624     -0.073519      0.007990   \n",
       "19149 -0.594089                   0.920     -0.009199      0.007990   \n",
       "19150 -0.978706                   0.920     -0.073519      0.015034   \n",
       "19152 -0.594089                   0.920      0.271178     -0.210308   \n",
       "19155 -0.594089                   0.920     -0.009199      0.007990   \n",
       "\n",
       "       education_level  enrolled_university  enrollee_id  experience  \\\n",
       "1             0.063811            -0.087333        29725   -0.307231   \n",
       "4            -0.149805            -0.087333          666   -0.867741   \n",
       "7             0.063811            -0.087333          402   -0.071384   \n",
       "8             0.063811            -0.087333        27107    0.395957   \n",
       "11            0.063811            -0.087333        23853    0.505816   \n",
       "...                ...                  ...          ...         ...   \n",
       "19147         0.063811             0.668459        21319    1.337812   \n",
       "19149        -0.149805            -0.087333          251    0.095864   \n",
       "19150         0.063811            -0.087333        32313   -0.062262   \n",
       "19152         0.063811            -0.087333        29754    0.395957   \n",
       "19155         0.063811            -0.087333        24576   -0.867741   \n",
       "\n",
       "         gender  last_new_job  major_discipline  relevent_experience  \\\n",
       "1      0.002262     -0.435701          0.049364             0.245470   \n",
       "4      0.002262      0.028382          0.049364            -0.037936   \n",
       "7      0.002262     -0.435701          0.049364            -0.037936   \n",
       "8      0.002262      0.085133          0.049364            -0.037936   \n",
       "11     0.002262      0.085133          0.049364            -0.037936   \n",
       "...         ...           ...               ...                  ...   \n",
       "19147  0.002262      0.085133          0.049364             0.245470   \n",
       "19149  0.002262      0.085133          0.049364            -0.037936   \n",
       "19150 -0.014413      0.018297          0.049364            -0.037936   \n",
       "19152 -0.014413      0.085133         -0.496412            -0.037936   \n",
       "19155  0.002262      0.028382          0.049364            -0.037936   \n",
       "\n",
       "       training_hours  \n",
       "1                  47  \n",
       "4                   8  \n",
       "7                  18  \n",
       "8                  46  \n",
       "11                108  \n",
       "...               ...  \n",
       "19147              52  \n",
       "19149              36  \n",
       "19150              23  \n",
       "19152              25  \n",
       "19155              44  \n",
       "\n",
       "[8955 rows x 13 columns]"
      ]
     },
     "execution_count": 24,
     "metadata": {},
     "output_type": "execute_result"
    }
   ],
   "source": [
    "data_WOE_ENC"
   ]
  },
  {
   "cell_type": "code",
   "execution_count": 25,
   "id": "worthy-journalism",
   "metadata": {},
   "outputs": [
    {
     "data": {
      "text/plain": [
       "array(['No relevent experience', 'Has relevent experience'], dtype=object)"
      ]
     },
     "execution_count": 25,
     "metadata": {},
     "output_type": "execute_result"
    }
   ],
   "source": [
    "# Проверка для поля \"соответствующий опыт\"\n",
    "data['relevent_experience'].unique()"
   ]
  },
  {
   "cell_type": "code",
   "execution_count": 26,
   "id": "contained-exception",
   "metadata": {},
   "outputs": [
    {
     "data": {
      "text/plain": [
       "array([ 0.24546955, -0.03793618])"
      ]
     },
     "execution_count": 26,
     "metadata": {},
     "output_type": "execute_result"
    }
   ],
   "source": [
    "data_WOE_ENC['relevent_experience'].unique()"
   ]
  },
  {
   "cell_type": "code",
   "execution_count": 30,
   "id": "activated-texture",
   "metadata": {},
   "outputs": [],
   "source": [
    "def check_woe_encoding(field):\n",
    "    data_ones = data[data['target'] == 1].shape[0]\n",
    "    data_zeros = data[data['target'] == 0].shape[0]\n",
    "    \n",
    "    for s in data[field].unique():\n",
    "        data_filter = data[data[field]==s]\n",
    "        if data_filter.shape[0] > 0:\n",
    "            \n",
    "            filter_data_ones = data_filter[data_filter['target'] == 1].shape[0]\n",
    "            filter_data_zeros = data_filter[data_filter['target'] == 0].shape[0]\n",
    "\n",
    "            good = filter_data_ones / data_ones\n",
    "            bad = filter_data_zeros / data_zeros\n",
    "            \n",
    "            woe = np.log(good/bad)\n",
    "            print(s, ':' , woe)"
   ]
  },
  {
   "cell_type": "code",
   "execution_count": 31,
   "id": "crucial-person",
   "metadata": {},
   "outputs": [
    {
     "name": "stdout",
     "output_type": "stream",
     "text": [
      "No relevent experience : 0.2432097832946858\n",
      "Has relevent experience : -0.03749772333644965\n"
     ]
    }
   ],
   "source": [
    "check_woe_encoding('relevent_experience')"
   ]
  },
  {
   "cell_type": "code",
   "execution_count": 32,
   "id": "central-mileage",
   "metadata": {
    "scrolled": true
   },
   "outputs": [
    {
     "data": {
      "text/plain": [
       "array([ 0.00798958, -0.21030783,  0.25536363,  0.01503436, -0.06905977,\n",
       "        0.32816127])"
      ]
     },
     "execution_count": 32,
     "metadata": {},
     "output_type": "execute_result"
    }
   ],
   "source": [
    "# Проверка для поля \"тип компании\"\n",
    "data_WOE_ENC['company_type'].unique()"
   ]
  },
  {
   "cell_type": "code",
   "execution_count": 33,
   "id": "spiritual-parker",
   "metadata": {},
   "outputs": [
    {
     "name": "stdout",
     "output_type": "stream",
     "text": [
      "Pvt Ltd : 0.008364064762092907\n",
      "Funded Startup : -0.21696621114799788\n",
      "Early Stage Startup : 0.246956716873141\n",
      "Public Sector : 0.007657725336646084\n",
      "NGO : -0.08268144174565834\n",
      "Other : 0.28209457103840635\n"
     ]
    }
   ],
   "source": [
    "check_woe_encoding('company_type')"
   ]
  },
  {
   "cell_type": "markdown",
   "id": "equivalent-hollow",
   "metadata": {},
   "source": [
    "Задача №23.\n",
    "Для набора данных для одного (произвольного) числового признака проведите обнаружение и удаление выбросов на основе правила трех сигм\n",
    "Для студентов групп ИУ5-23М, ИУ5И-23М - для произвольной колонки данных построить график \"Ящик с усами (boxplot)\"."
   ]
  },
  {
   "cell_type": "code",
   "execution_count": 59,
   "id": "cutting-significance",
   "metadata": {},
   "outputs": [],
   "source": [
    "x_col_list = ['training_hours']"
   ]
  },
  {
   "cell_type": "code",
   "execution_count": 60,
   "id": "conventional-toyota",
   "metadata": {},
   "outputs": [],
   "source": [
    "# Функция построения графиков - ящики с усами\n",
    "def diagnostic_plots(df, variable, title):\n",
    "    fig, ax = plt.subplots(figsize=(10,7))\n",
    "    # ящик с усами\n",
    "    plt.subplot(2, 2, 3)\n",
    "    sns.violinplot(x=df[variable])    \n",
    "    # ящик с усами\n",
    "    plt.subplot(2, 2, 4)\n",
    "    sns.boxplot(x=df[variable])  \n",
    "    fig.suptitle(title)\n",
    "    plt.show()"
   ]
  },
  {
   "cell_type": "code",
   "execution_count": 61,
   "id": "respiratory-omaha",
   "metadata": {},
   "outputs": [
    {
     "data": {
      "image/png": "[encoded data removed]",
      "text/plain": [
       "<Figure size 720x504 with 2 Axes>"
      ]
     },
     "metadata": {},
     "output_type": "display_data"
    }
   ],
   "source": [
    "diagnostic_plots(data, 'training_hours', 'training_hours - original')"
   ]
  },
  {
   "cell_type": "code",
   "execution_count": 62,
   "id": "sized-bookmark",
   "metadata": {},
   "outputs": [],
   "source": [
    "# Тип вычисления верхней и нижней границы выбросов - правило трех сигм\n",
    "from enum import Enum\n",
    "class OutlierBoundaryType(Enum):\n",
    "    SIGMA = 1"
   ]
  },
  {
   "cell_type": "code",
   "execution_count": 63,
   "id": "coated-surname",
   "metadata": {},
   "outputs": [],
   "source": [
    "# Функция вычисления верхней и нижней границы выбросов\n",
    "def get_outlier_boundaries(df, col, outlier_boundary_type: OutlierBoundaryType):\n",
    "    if outlier_boundary_type == OutlierBoundaryType.SIGMA:\n",
    "        K1 = 3\n",
    "        lower_boundary = df[col].mean() - (K1 * df[col].std())\n",
    "        upper_boundary = df[col].mean() + (K1 * df[col].std())\n",
    "\n",
    "    else:\n",
    "        raise NameError('Unknown Outlier Boundary Type')\n",
    "        \n",
    "    return lower_boundary, upper_boundary  "
   ]
  },
  {
   "cell_type": "code",
   "execution_count": 64,
   "id": "asian-pharmaceutical",
   "metadata": {},
   "outputs": [
    {
     "data": {
      "text/plain": [
       "(19158, 14)"
      ]
     },
     "execution_count": 64,
     "metadata": {},
     "output_type": "execute_result"
    }
   ],
   "source": [
    "data.shape"
   ]
  },
  {
   "cell_type": "code",
   "execution_count": 65,
   "id": "polyphonic-charger",
   "metadata": {},
   "outputs": [
    {
     "data": {
      "image/png": "[encoded data removed]",
      "text/plain": [
       "<Figure size 720x504 with 2 Axes>"
      ]
     },
     "metadata": {},
     "output_type": "display_data"
    }
   ],
   "source": [
    "# Удаление выбросов\n",
    "for col in x_col_list:    \n",
    "    for obt in OutlierBoundaryType:\n",
    "        # Вычисление верхней и нижней границы\n",
    "        lower_boundary, upper_boundary = get_outlier_boundaries(data, col, obt)\n",
    "        # Флаги для удаления выбросов\n",
    "        outliers_temp = np.where(data[col] > upper_boundary, True, \n",
    "                                 np.where(data[col] < lower_boundary, True, False))\n",
    "        # Удаление данных на основе флага\n",
    "        data_trimmed = data.loc[~(outliers_temp), ]  \n",
    "        title = 'Поле-{}, метод-{}, строк-{}'.format(col, obt, data_trimmed.shape[0])\n",
    "        diagnostic_plots(data_trimmed, col, title)"
   ]
  },
  {
   "cell_type": "code",
   "execution_count": null,
   "id": "closing-secretariat",
   "metadata": {},
   "outputs": [],
   "source": []
  }
 ],
 "metadata": {
  "kernelspec": {
   "display_name": "Python 3",
   "language": "python",
   "name": "python3"
  },
  "language_info": {
   "codemirror_mode": {
    "name": "ipython",
    "version": 3
   },
   "file_extension": ".py",
   "mimetype": "text/x-python",
   "name": "python",
   "nbconvert_exporter": "python",
   "pygments_lexer": "ipython3",
   "version": "3.6.3"
  }
 },
 "nbformat": 4,
 "nbformat_minor": 5
}
